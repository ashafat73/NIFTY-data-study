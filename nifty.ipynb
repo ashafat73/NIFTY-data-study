{
 "cells": [
  {
   "cell_type": "markdown",
   "metadata": {},
   "source": [
    "# study of NIFTY data of 5 years"
   ]
  },
  {
   "cell_type": "code",
   "execution_count": 1,
   "metadata": {},
   "outputs": [],
   "source": [
    "import pandas as pd\n",
    "import numpy as np\n",
    "import matplotlib.pyplot as plt\n",
    "import seaborn as sb"
   ]
  },
  {
   "cell_type": "code",
   "execution_count": 123,
   "metadata": {},
   "outputs": [],
   "source": [
    "bank_data=pd.read_csv(r\"C:\\Users\\shafat\\Desktop\\python\\NSEBANKfive.csv\")"
   ]
  },
  {
   "cell_type": "code",
   "execution_count": 124,
   "metadata": {},
   "outputs": [
    {
     "data": {
      "text/html": [
       "<div>\n",
       "<style scoped>\n",
       "    .dataframe tbody tr th:only-of-type {\n",
       "        vertical-align: middle;\n",
       "    }\n",
       "\n",
       "    .dataframe tbody tr th {\n",
       "        vertical-align: top;\n",
       "    }\n",
       "\n",
       "    .dataframe thead th {\n",
       "        text-align: right;\n",
       "    }\n",
       "</style>\n",
       "<table border=\"1\" class=\"dataframe\">\n",
       "  <thead>\n",
       "    <tr style=\"text-align: right;\">\n",
       "      <th></th>\n",
       "      <th>Date</th>\n",
       "      <th>Open</th>\n",
       "      <th>High</th>\n",
       "      <th>Low</th>\n",
       "      <th>Close</th>\n",
       "      <th>Adj Close</th>\n",
       "      <th>Volume</th>\n",
       "      <th>month</th>\n",
       "    </tr>\n",
       "  </thead>\n",
       "  <tbody>\n",
       "    <tr>\n",
       "      <td>0</td>\n",
       "      <td>2/1/2016</td>\n",
       "      <td>15206.29981</td>\n",
       "      <td>15367.90039</td>\n",
       "      <td>13519.90039</td>\n",
       "      <td>13555.70020</td>\n",
       "      <td>13555.70020</td>\n",
       "      <td>287400.0</td>\n",
       "      <td>2</td>\n",
       "    </tr>\n",
       "    <tr>\n",
       "      <td>1</td>\n",
       "      <td>3/1/2016</td>\n",
       "      <td>NaN</td>\n",
       "      <td>NaN</td>\n",
       "      <td>NaN</td>\n",
       "      <td>NaN</td>\n",
       "      <td>NaN</td>\n",
       "      <td>NaN</td>\n",
       "      <td>3</td>\n",
       "    </tr>\n",
       "    <tr>\n",
       "      <td>2</td>\n",
       "      <td>4/1/2016</td>\n",
       "      <td>16236.90039</td>\n",
       "      <td>16278.50000</td>\n",
       "      <td>16046.50000</td>\n",
       "      <td>16190.59961</td>\n",
       "      <td>16190.59961</td>\n",
       "      <td>70300.0</td>\n",
       "      <td>4</td>\n",
       "    </tr>\n",
       "    <tr>\n",
       "      <td>3</td>\n",
       "      <td>5/1/2016</td>\n",
       "      <td>16600.65039</td>\n",
       "      <td>17025.84961</td>\n",
       "      <td>16599.05078</td>\n",
       "      <td>16997.44922</td>\n",
       "      <td>16997.44922</td>\n",
       "      <td>83900.0</td>\n",
       "      <td>5</td>\n",
       "    </tr>\n",
       "    <tr>\n",
       "      <td>4</td>\n",
       "      <td>6/1/2016</td>\n",
       "      <td>17710.44922</td>\n",
       "      <td>18051.50000</td>\n",
       "      <td>17636.90039</td>\n",
       "      <td>17828.59961</td>\n",
       "      <td>17828.59961</td>\n",
       "      <td>170300.0</td>\n",
       "      <td>6</td>\n",
       "    </tr>\n",
       "  </tbody>\n",
       "</table>\n",
       "</div>"
      ],
      "text/plain": [
       "       Date         Open         High          Low        Close    Adj Close  \\\n",
       "0  2/1/2016  15206.29981  15367.90039  13519.90039  13555.70020  13555.70020   \n",
       "1  3/1/2016          NaN          NaN          NaN          NaN          NaN   \n",
       "2  4/1/2016  16236.90039  16278.50000  16046.50000  16190.59961  16190.59961   \n",
       "3  5/1/2016  16600.65039  17025.84961  16599.05078  16997.44922  16997.44922   \n",
       "4  6/1/2016  17710.44922  18051.50000  17636.90039  17828.59961  17828.59961   \n",
       "\n",
       "     Volume  month  \n",
       "0  287400.0      2  \n",
       "1       NaN      3  \n",
       "2   70300.0      4  \n",
       "3   83900.0      5  \n",
       "4  170300.0      6  "
      ]
     },
     "execution_count": 124,
     "metadata": {},
     "output_type": "execute_result"
    }
   ],
   "source": [
    "#overview of data\n",
    "bank_data.head()"
   ]
  },
  {
   "cell_type": "code",
   "execution_count": 125,
   "metadata": {},
   "outputs": [
    {
     "data": {
      "text/html": [
       "<div>\n",
       "<style scoped>\n",
       "    .dataframe tbody tr th:only-of-type {\n",
       "        vertical-align: middle;\n",
       "    }\n",
       "\n",
       "    .dataframe tbody tr th {\n",
       "        vertical-align: top;\n",
       "    }\n",
       "\n",
       "    .dataframe thead th {\n",
       "        text-align: right;\n",
       "    }\n",
       "</style>\n",
       "<table border=\"1\" class=\"dataframe\">\n",
       "  <thead>\n",
       "    <tr style=\"text-align: right;\">\n",
       "      <th></th>\n",
       "      <th>Date</th>\n",
       "      <th>Open</th>\n",
       "      <th>High</th>\n",
       "      <th>Low</th>\n",
       "      <th>Close</th>\n",
       "      <th>Adj Close</th>\n",
       "      <th>Volume</th>\n",
       "      <th>month</th>\n",
       "      <th>mnth_yr</th>\n",
       "    </tr>\n",
       "  </thead>\n",
       "  <tbody>\n",
       "    <tr>\n",
       "      <td>0</td>\n",
       "      <td>2016-02-01</td>\n",
       "      <td>15206.29981</td>\n",
       "      <td>15367.90039</td>\n",
       "      <td>13519.90039</td>\n",
       "      <td>13555.70020</td>\n",
       "      <td>13555.70020</td>\n",
       "      <td>287400.0</td>\n",
       "      <td>2</td>\n",
       "      <td>February-2016</td>\n",
       "    </tr>\n",
       "    <tr>\n",
       "      <td>1</td>\n",
       "      <td>2016-03-01</td>\n",
       "      <td>NaN</td>\n",
       "      <td>NaN</td>\n",
       "      <td>NaN</td>\n",
       "      <td>NaN</td>\n",
       "      <td>NaN</td>\n",
       "      <td>NaN</td>\n",
       "      <td>3</td>\n",
       "      <td>March-2016</td>\n",
       "    </tr>\n",
       "    <tr>\n",
       "      <td>2</td>\n",
       "      <td>2016-04-01</td>\n",
       "      <td>16236.90039</td>\n",
       "      <td>16278.50000</td>\n",
       "      <td>16046.50000</td>\n",
       "      <td>16190.59961</td>\n",
       "      <td>16190.59961</td>\n",
       "      <td>70300.0</td>\n",
       "      <td>4</td>\n",
       "      <td>April-2016</td>\n",
       "    </tr>\n",
       "    <tr>\n",
       "      <td>3</td>\n",
       "      <td>2016-05-01</td>\n",
       "      <td>16600.65039</td>\n",
       "      <td>17025.84961</td>\n",
       "      <td>16599.05078</td>\n",
       "      <td>16997.44922</td>\n",
       "      <td>16997.44922</td>\n",
       "      <td>83900.0</td>\n",
       "      <td>5</td>\n",
       "      <td>May-2016</td>\n",
       "    </tr>\n",
       "    <tr>\n",
       "      <td>4</td>\n",
       "      <td>2016-06-01</td>\n",
       "      <td>17710.44922</td>\n",
       "      <td>18051.50000</td>\n",
       "      <td>17636.90039</td>\n",
       "      <td>17828.59961</td>\n",
       "      <td>17828.59961</td>\n",
       "      <td>170300.0</td>\n",
       "      <td>6</td>\n",
       "      <td>June-2016</td>\n",
       "    </tr>\n",
       "  </tbody>\n",
       "</table>\n",
       "</div>"
      ],
      "text/plain": [
       "        Date         Open         High          Low        Close    Adj Close  \\\n",
       "0 2016-02-01  15206.29981  15367.90039  13519.90039  13555.70020  13555.70020   \n",
       "1 2016-03-01          NaN          NaN          NaN          NaN          NaN   \n",
       "2 2016-04-01  16236.90039  16278.50000  16046.50000  16190.59961  16190.59961   \n",
       "3 2016-05-01  16600.65039  17025.84961  16599.05078  16997.44922  16997.44922   \n",
       "4 2016-06-01  17710.44922  18051.50000  17636.90039  17828.59961  17828.59961   \n",
       "\n",
       "     Volume  month        mnth_yr  \n",
       "0  287400.0      2  February-2016  \n",
       "1       NaN      3     March-2016  \n",
       "2   70300.0      4     April-2016  \n",
       "3   83900.0      5       May-2016  \n",
       "4  170300.0      6      June-2016  "
      ]
     },
     "execution_count": 125,
     "metadata": {},
     "output_type": "execute_result"
    }
   ],
   "source": [
    "\n",
    "# converting the datemonth stamp t month year(not required)\n",
    "bank_data.dtypes\n",
    "from datetime import datetime\n",
    "bank_data['Date']=pd.to_datetime(bank_data['Date'].astype(str), format='%m/%d/%Y')\n",
    "bank_data['mnth_yr'] = bank_data['Date'].apply(lambda x: x.strftime('%B-%Y')) \n",
    "bank_data.head()"
   ]
  },
  {
   "cell_type": "code",
   "execution_count": 127,
   "metadata": {},
   "outputs": [
    {
     "data": {
      "text/plain": [
       "<seaborn.axisgrid.PairGrid at 0x22893a9a488>"
      ]
     },
     "execution_count": 127,
     "metadata": {},
     "output_type": "execute_result"
    },
    {
     "data": {
      "image/png": "[encoded data removed]",
      "text/plain": [
       "<Figure size 1260x1260 with 56 Axes>"
      ]
     },
     "metadata": {
      "needs_background": "light"
     },
     "output_type": "display_data"
    }
   ],
   "source": [
    "#check relation between variables\n",
    "sb.pairplot(bank_data.corr())"
   ]
  },
  {
   "cell_type": "code",
   "execution_count": 128,
   "metadata": {},
   "outputs": [
    {
     "data": {
      "text/html": [
       "<div>\n",
       "<style scoped>\n",
       "    .dataframe tbody tr th:only-of-type {\n",
       "        vertical-align: middle;\n",
       "    }\n",
       "\n",
       "    .dataframe tbody tr th {\n",
       "        vertical-align: top;\n",
       "    }\n",
       "\n",
       "    .dataframe thead th {\n",
       "        text-align: right;\n",
       "    }\n",
       "</style>\n",
       "<table border=\"1\" class=\"dataframe\">\n",
       "  <thead>\n",
       "    <tr style=\"text-align: right;\">\n",
       "      <th></th>\n",
       "      <th>Open</th>\n",
       "      <th>High</th>\n",
       "      <th>Low</th>\n",
       "      <th>Close</th>\n",
       "      <th>Adj Close</th>\n",
       "      <th>Volume</th>\n",
       "      <th>month</th>\n",
       "    </tr>\n",
       "  </thead>\n",
       "  <tbody>\n",
       "    <tr>\n",
       "      <td>Open</td>\n",
       "      <td>1.000000</td>\n",
       "      <td>0.965280</td>\n",
       "      <td>0.904435</td>\n",
       "      <td>0.892469</td>\n",
       "      <td>0.892469</td>\n",
       "      <td>0.202303</td>\n",
       "      <td>0.575560</td>\n",
       "    </tr>\n",
       "    <tr>\n",
       "      <td>High</td>\n",
       "      <td>0.965280</td>\n",
       "      <td>1.000000</td>\n",
       "      <td>0.903916</td>\n",
       "      <td>0.943114</td>\n",
       "      <td>0.943114</td>\n",
       "      <td>0.175576</td>\n",
       "      <td>0.674755</td>\n",
       "    </tr>\n",
       "    <tr>\n",
       "      <td>Low</td>\n",
       "      <td>0.904435</td>\n",
       "      <td>0.903916</td>\n",
       "      <td>1.000000</td>\n",
       "      <td>0.968330</td>\n",
       "      <td>0.968330</td>\n",
       "      <td>0.143118</td>\n",
       "      <td>0.464126</td>\n",
       "    </tr>\n",
       "    <tr>\n",
       "      <td>Close</td>\n",
       "      <td>0.892469</td>\n",
       "      <td>0.943114</td>\n",
       "      <td>0.968330</td>\n",
       "      <td>1.000000</td>\n",
       "      <td>1.000000</td>\n",
       "      <td>0.112522</td>\n",
       "      <td>0.579957</td>\n",
       "    </tr>\n",
       "    <tr>\n",
       "      <td>Adj Close</td>\n",
       "      <td>0.892469</td>\n",
       "      <td>0.943114</td>\n",
       "      <td>0.968330</td>\n",
       "      <td>1.000000</td>\n",
       "      <td>1.000000</td>\n",
       "      <td>0.112522</td>\n",
       "      <td>0.579957</td>\n",
       "    </tr>\n",
       "    <tr>\n",
       "      <td>Volume</td>\n",
       "      <td>0.202303</td>\n",
       "      <td>0.175576</td>\n",
       "      <td>0.143118</td>\n",
       "      <td>0.112522</td>\n",
       "      <td>0.112522</td>\n",
       "      <td>1.000000</td>\n",
       "      <td>0.102999</td>\n",
       "    </tr>\n",
       "    <tr>\n",
       "      <td>month</td>\n",
       "      <td>0.575560</td>\n",
       "      <td>0.674755</td>\n",
       "      <td>0.464126</td>\n",
       "      <td>0.579957</td>\n",
       "      <td>0.579957</td>\n",
       "      <td>0.102999</td>\n",
       "      <td>1.000000</td>\n",
       "    </tr>\n",
       "  </tbody>\n",
       "</table>\n",
       "</div>"
      ],
      "text/plain": [
       "               Open      High       Low     Close  Adj Close    Volume  \\\n",
       "Open       1.000000  0.965280  0.904435  0.892469   0.892469  0.202303   \n",
       "High       0.965280  1.000000  0.903916  0.943114   0.943114  0.175576   \n",
       "Low        0.904435  0.903916  1.000000  0.968330   0.968330  0.143118   \n",
       "Close      0.892469  0.943114  0.968330  1.000000   1.000000  0.112522   \n",
       "Adj Close  0.892469  0.943114  0.968330  1.000000   1.000000  0.112522   \n",
       "Volume     0.202303  0.175576  0.143118  0.112522   0.112522  1.000000   \n",
       "month      0.575560  0.674755  0.464126  0.579957   0.579957  0.102999   \n",
       "\n",
       "              month  \n",
       "Open       0.575560  \n",
       "High       0.674755  \n",
       "Low        0.464126  \n",
       "Close      0.579957  \n",
       "Adj Close  0.579957  \n",
       "Volume     0.102999  \n",
       "month      1.000000  "
      ]
     },
     "execution_count": 128,
     "metadata": {},
     "output_type": "execute_result"
    }
   ],
   "source": [
    "#check the data\n",
    "bank_data.corr()"
   ]
  },
  {
   "cell_type": "code",
   "execution_count": 95,
   "metadata": {},
   "outputs": [
    {
     "data": {
      "text/plain": [
       "<seaborn.axisgrid.PairGrid at 0x228907fa9c8>"
      ]
     },
     "execution_count": 95,
     "metadata": {},
     "output_type": "execute_result"
    },
    {
     "data": {
      "image/png": "[encoded data removed]",
      "text/plain": [
       "<Figure size 1260x1260 with 56 Axes>"
      ]
     },
     "metadata": {
      "needs_background": "light"
     },
     "output_type": "display_data"
    }
   ],
   "source": [
    "sb.pairplot(bank_data.corr())"
   ]
  },
  {
   "cell_type": "code",
   "execution_count": 129,
   "metadata": {},
   "outputs": [],
   "source": [
    "#missing value treatments"
   ]
  },
  {
   "cell_type": "code",
   "execution_count": 38,
   "metadata": {},
   "outputs": [],
   "source": [
    "#missing value treatments"
   ]
  },
  {
   "cell_type": "code",
   "execution_count": 130,
   "metadata": {},
   "outputs": [],
   "source": [
    "# Taking care of missing data, Imputer is a class from the sklearn library\n",
    "# The missing data in above frame would be stored as  'nann'\n",
    "#from sklearn.preprocessing import Imputer\n",
    "\n",
    "# i will not use imputer rather delete the rows containing nan as replacing with mean can give error"
   ]
  },
  {
   "cell_type": "code",
   "execution_count": 131,
   "metadata": {},
   "outputs": [],
   "source": [
    "bank = bank_data.dropna(axis = 0, how ='any')"
   ]
  },
  {
   "cell_type": "code",
   "execution_count": 132,
   "metadata": {},
   "outputs": [
    {
     "data": {
      "text/plain": [
       "<matplotlib.axes._subplots.AxesSubplot at 0x228980715c8>"
      ]
     },
     "execution_count": 132,
     "metadata": {},
     "output_type": "execute_result"
    },
    {
     "data": {
      "image/png": "[encoded data removed]",
      "text/plain": [
       "<Figure size 432x288 with 1 Axes>"
      ]
     },
     "metadata": {
      "needs_background": "light"
     },
     "output_type": "display_data"
    }
   ],
   "source": [
    "sb.boxplot(bank_data.High)"
   ]
  },
  {
   "cell_type": "code",
   "execution_count": 133,
   "metadata": {},
   "outputs": [],
   "source": [
    "X=bank.iloc[:,7:8].values\n",
    "Y=bank.iloc[:,1].values"
   ]
  },
  {
   "cell_type": "code",
   "execution_count": 135,
   "metadata": {},
   "outputs": [
    {
     "data": {
      "text/plain": [
       "2"
      ]
     },
     "execution_count": 135,
     "metadata": {},
     "output_type": "execute_result"
    }
   ],
   "source": [
    "#check the dimension\n",
    "X.ndim"
   ]
  },
  {
   "cell_type": "code",
   "execution_count": 136,
   "metadata": {},
   "outputs": [
    {
     "name": "stdout",
     "output_type": "stream",
     "text": [
      "2.1687878585343396\n"
     ]
    }
   ],
   "source": [
    "#check outliers\n",
    "\n",
    "from scipy import stats\n",
    "z = max(np.abs(stats.zscore(Y)))\n",
    "print(z)\n"
   ]
  },
  {
   "cell_type": "code",
   "execution_count": 138,
   "metadata": {},
   "outputs": [
    {
     "data": {
      "text/plain": [
       "1"
      ]
     },
     "execution_count": 138,
     "metadata": {},
     "output_type": "execute_result"
    }
   ],
   "source": [
    "#check dimension\n",
    "Y.ndim"
   ]
  },
  {
   "cell_type": "code",
   "execution_count": 85,
   "metadata": {},
   "outputs": [],
   "source": [
    "# i am not using label encoder here rather take month column as X\n",
    "\n",
    "#from sklearn.preprocessing import LabelEncoder, OneHotEncoder\n",
    "# Encoding the Independent Variable\n",
    "#labelencoder_X = LabelEncoder()\n",
    "#X[:, 0] = labelencoder_X.fit_transform(X[:, 0])\n",
    "# Encoding the Independent Variable and creating dummy values\n"
   ]
  },
  {
   "cell_type": "code",
   "execution_count": 140,
   "metadata": {},
   "outputs": [
    {
     "data": {
      "text/plain": [
       "<matplotlib.collections.PathCollection at 0x22898740a88>"
      ]
     },
     "execution_count": 140,
     "metadata": {},
     "output_type": "execute_result"
    },
    {
     "data": {
      "image/png": "[encoded data removed]",
      "text/plain": [
       "<Figure size 432x288 with 1 Axes>"
      ]
     },
     "metadata": {
      "needs_background": "light"
     },
     "output_type": "display_data"
    }
   ],
   "source": [
    "#check relationship between X & Y\n",
    "\n",
    "plt.scatter(X, Y, c= (\"red\"))"
   ]
  },
  {
   "cell_type": "code",
   "execution_count": 141,
   "metadata": {},
   "outputs": [],
   "source": [
    "from sklearn.linear_model import LinearRegression\n",
    "from sklearn.metrics import mean_squared_error"
   ]
  },
  {
   "cell_type": "code",
   "execution_count": 142,
   "metadata": {},
   "outputs": [],
   "source": [
    "reg=LinearRegression()"
   ]
  },
  {
   "cell_type": "code",
   "execution_count": 143,
   "metadata": {},
   "outputs": [],
   "source": [
    "reg=reg.fit(X,Y)"
   ]
  },
  {
   "cell_type": "code",
   "execution_count": 114,
   "metadata": {},
   "outputs": [],
   "source": [
    "Y_pred=reg.predict(X)"
   ]
  },
  {
   "cell_type": "code",
   "execution_count": 115,
   "metadata": {},
   "outputs": [
    {
     "name": "stdout",
     "output_type": "stream",
     "text": [
      "0.33126922889847377\n"
     ]
    }
   ],
   "source": [
    "#Calculating R2 score and printing it\n",
    "r2_score=reg.score(X,Y)\n",
    "print(r2_score)"
   ]
  },
  {
   "cell_type": "code",
   "execution_count": 144,
   "metadata": {},
   "outputs": [],
   "source": [
    "#Note that it would need 4 parameters in the same train and test sequence\n",
    "#train_test_split is a function in the model_selection module, read help for more details :)\n",
    "#X and Y are the arrays that we created above using iloc, always check the dimension\n",
    "#test_size=1/3 so train_size=2/3, you can give either, usually 80 (Train):20(Test) is the norm\n",
    "#random_state=0 is the seed value for replicating the results, we hardcode it for replicating the results\n",
    "#The train and test would now have random values, this removes any data bias and let go of data inbuilt patterns\n",
    "#The name could be any for the name of the sets a,b,c,d would work, just the sequence matters (train and test)\n",
    "from sklearn.model_selection import train_test_split\n",
    "X_train,X_test,Y_train,Y_test=train_test_split(X,Y,test_size=1/3,random_state=0)"
   ]
  },
  {
   "cell_type": "code",
   "execution_count": 145,
   "metadata": {},
   "outputs": [],
   "source": [
    "#we import the LinearRegression class\n",
    "#reg is simply a linear regressor object and LinearRegression is a class, reg is an instance of class \n",
    "#fit is a method available in LinearRegression class, this now creates a best line fit based on X and Y\n",
    "#At this point the machine learning model is ready and the best fit line is in place\n",
    "#this reg object can now be called with predict method for predicting value of an array or single value\n",
    "#You cannot call the predict method if the object reg is not trained using the fit method\n",
    "#Y_predict are the predicted salaries and Y_test are actuals, you can compare them to see the model's performance\n",
    "#creating y_predict to match with Y_test, y_predict is created with X_test \n",
    "#In summary we are trying to predict y with test x and match against test y for the accuracy of the model\n",
    "from sklearn.linear_model import LinearRegression\n",
    "reg=LinearRegression()\n",
    "reg.fit(X_train,Y_train)\n",
    "Y_predict=reg.predict(X_test)"
   ]
  },
  {
   "cell_type": "code",
   "execution_count": 118,
   "metadata": {},
   "outputs": [
    {
     "name": "stdout",
     "output_type": "stream",
     "text": [
      "20010.65324392372\n",
      "[141.99720783]\n"
     ]
    }
   ],
   "source": [
    "print(reg.intercept_) # Nothing but the y intercept\n",
    "print(reg.coef_)"
   ]
  },
  {
   "cell_type": "code",
   "execution_count": 146,
   "metadata": {},
   "outputs": [
    {
     "name": "stdout",
     "output_type": "stream",
     "text": [
      "[24980.55551797]\n"
     ]
    }
   ],
   "source": [
    "Y_predict_val=reg.predict(np.array(35).reshape(1,1))\n",
    "print(Y_predict_val)"
   ]
  },
  {
   "cell_type": "code",
   "execution_count": 147,
   "metadata": {},
   "outputs": [
    {
     "data": {
      "image/png": "[encoded data removed]",
      "text/plain": [
       "<Figure size 432x288 with 1 Axes>"
      ]
     },
     "metadata": {
      "needs_background": "light"
     },
     "output_type": "display_data"
    }
   ],
   "source": [
    "plt.scatter(X_train,Y_train,color='red',label=\"Scatter data\")\n",
    "plt.plot(X_train,reg.predict(X_train),c='green',label=\"Reg line\")\n",
    "#Giving title to the plot for making it look better, also giving labels to X and Y axis\n",
    "plt.title('NIFTY data for 5 years')\n",
    "plt.xlabel('month')\n",
    "plt.ylabel('opening value')\n",
    "plt.legend()\n",
    "plt.show()   "
   ]
  },
  {
   "cell_type": "code",
   "execution_count": 148,
   "metadata": {},
   "outputs": [
    {
     "data": {
      "image/png": "[encoded data removed]",
      "text/plain": [
       "<Figure size 432x288 with 1 Axes>"
      ]
     },
     "metadata": {
      "needs_background": "light"
     },
     "output_type": "display_data"
    }
   ],
   "source": [
    "plt.scatter(X_test,Y_test,color='red',label=\"Scatter data\")\n",
    "plt.plot(X_test,reg.predict(X_test),c='purple',label=\"Reg line\")\n",
    "#Giving title to the plot for making it look better, also giving labels to X and Y axis\n",
    "plt.title('NIFTY data for 5 years ')\n",
    "plt.xlabel('Month')\n",
    "plt.ylabel('Opening value')\n",
    "plt.legend()\n",
    "plt.show()  \n"
   ]
  },
  {
   "cell_type": "code",
   "execution_count": 149,
   "metadata": {},
   "outputs": [
    {
     "name": "stdout",
     "output_type": "stream",
     "text": [
      "2838.0758034394803\n",
      "12709880.94608766\n",
      "Final rmse value is :3565.0919968617445\n",
      "3565.0919968617445\n",
      "0.31345671044399004\n"
     ]
    }
   ],
   "source": [
    "from sklearn import metrics\n",
    "\n",
    "#1. Result for MAE (Mean Absolute Error) >> The formula is avg(|y-yhat|)\n",
    "print(metrics.mean_absolute_error(Y_test,Y_predict))\n",
    "\n",
    "#2. Result for MSE (Mean Squared Error) >> The formula is avg(|(y-yhat)**2|)\n",
    "print(metrics.mean_squared_error(Y_test,Y_predict))\n",
    "\n",
    "#3. Let's calculate the RMSE from scartch, RMSE is also a measure of the goodness of fit of a model.\n",
    "#The RMSE of $4585.41 is not bad and the model is predicting salaries to a good extent\n",
    "rss=((Y_test-Y_predict)**2).sum() #residual sum of squares or the SSE (Sum squared errors)..just like Variance\n",
    "mse=np.mean((Y_test-Y_predict)**2) #mean square error just like the standdard deviation or sigma\n",
    "print(f\"Final rmse value is :{np.sqrt(mse)}\")\n",
    "\n",
    "#3.1 Another way for RMSE, check from above calculation, the values match\n",
    "print(np.sqrt(metrics.mean_squared_error(Y_test,Y_predict)))\n",
    "\n",
    "#4. Calculating the R square and printing it for the goodness of fit, it come out to be 93.8%\n",
    "#The variation that can be explained by this model is 93.8%\n",
    "#reg is the LinearRegression() object\n",
    "r2_score=reg.score(X_train,Y_train)\n",
    "print(r2_score) "
   ]
  },
  {
   "cell_type": "code",
   "execution_count": null,
   "metadata": {},
   "outputs": [],
   "source": []
  },
  {
   "cell_type": "code",
   "execution_count": null,
   "metadata": {},
   "outputs": [],
   "source": []
  },
  {
   "cell_type": "code",
   "execution_count": null,
   "metadata": {},
   "outputs": [],
   "source": []
  }
 ],
 "metadata": {
  "kernelspec": {
   "display_name": "Python 3",
   "language": "python",
   "name": "python3"
  },
  "language_info": {
   "codemirror_mode": {
    "name": "ipython",
    "version": 3
   },
   "file_extension": ".py",
   "mimetype": "text/x-python",
   "name": "python",
   "nbconvert_exporter": "python",
   "pygments_lexer": "ipython3",
   "version": "3.7.4"
  }
 },
 "nbformat": 4,
 "nbformat_minor": 2
}
